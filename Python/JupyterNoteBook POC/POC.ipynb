{
 "cells": [
  {
   "cell_type": "code",
   "execution_count": 26,
   "id": "a0e6dd68-4758-4594-afcd-0b230f4b6540",
   "metadata": {},
   "outputs": [
    {
     "name": "stdout",
     "output_type": "stream",
     "text": [
      "Hello World!!\n"
     ]
    }
   ],
   "source": [
    "print(\"Hello World!!\")"
   ]
  },
  {
   "cell_type": "code",
   "execution_count": 27,
   "id": "b2bec26c",
   "metadata": {},
   "outputs": [
    {
     "name": "stdout",
     "output_type": "stream",
     "text": [
      "hello J\n"
     ]
    }
   ],
   "source": [
    "x = input()\n",
    "print(\"hello \"+ x)"
   ]
  },
  {
   "cell_type": "code",
   "execution_count": 28,
   "id": "ae17d409",
   "metadata": {},
   "outputs": [
    {
     "name": "stdout",
     "output_type": "stream",
     "text": [
      "Hello J\n",
      "<class 'str'>\n"
     ]
    }
   ],
   "source": [
    "#comments YAY\n",
    "x = input(\"Input your name\").title()\n",
    "print(f\"Hello {x}\")\n",
    "y = type(x)\n",
    "print(y)"
   ]
  },
  {
   "cell_type": "code",
   "execution_count": 29,
   "id": "f5503fca",
   "metadata": {},
   "outputs": [
    {
     "name": "stdout",
     "output_type": "stream",
     "text": [
      "'hello 'hello\n"
     ]
    }
   ],
   "source": [
    "x = input()\n",
    "print(\"'hello '\", end=\"\")\n",
    "print(x)"
   ]
  },
  {
   "cell_type": "code",
   "execution_count": 2,
   "id": "c63d5321",
   "metadata": {},
   "outputs": [
    {
     "name": "stdout",
     "output_type": "stream",
     "text": [
      "Hello Joseph Banson\n"
     ]
    }
   ],
   "source": [
    "x = input(\"Input your full name\").title()\n",
    "y,z = x.split(\" \")\n",
    "print(f\"Hello {y} {z}\")"
   ]
  },
  {
   "cell_type": "code",
   "execution_count": null,
   "id": "3f843c2d",
   "metadata": {},
   "outputs": [
    {
     "name": "stdout",
     "output_type": "stream",
     "text": [
      "3\n"
     ]
    }
   ],
   "source": [
    "x = int(input(\"input a number\"))\n",
    "y = int(input(\"input a number\"))\n",
    "print (x + y)"
   ]
  },
  {
   "cell_type": "code",
   "execution_count": 1,
   "id": "3faf0547",
   "metadata": {},
   "outputs": [
    {
     "name": "stdout",
     "output_type": "stream",
     "text": [
      "Nice name Joseph\n"
     ]
    }
   ],
   "source": [
    "def hello(name):\n",
    "    print(f\"Nice name {name}\")\n",
    "\n",
    "name = input(\"Please input your name\").strip().title()\n",
    "hello(name)\n"
   ]
  },
  {
   "cell_type": "code",
   "execution_count": 3,
   "id": "05a23d1e",
   "metadata": {},
   "outputs": [
    {
     "name": "stdout",
     "output_type": "stream",
     "text": [
      "happy\n",
      " days\t Joe\n"
     ]
    }
   ],
   "source": [
    "#\\n newline \\t tab\n",
    "x = \"happy\\n days\\t Joe\"\n",
    "print(x)"
   ]
  }
 ],
 "metadata": {
  "kernelspec": {
   "display_name": "Python 3",
   "language": "python",
   "name": "python3"
  },
  "language_info": {
   "codemirror_mode": {
    "name": "ipython",
    "version": 3
   },
   "file_extension": ".py",
   "mimetype": "text/x-python",
   "name": "python",
   "nbconvert_exporter": "python",
   "pygments_lexer": "ipython3",
   "version": "3.12.3"
  }
 },
 "nbformat": 4,
 "nbformat_minor": 5
}
